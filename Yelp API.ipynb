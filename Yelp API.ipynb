{
 "cells": [
  {
   "cell_type": "code",
   "execution_count": 2,
   "id": "a48d948f",
   "metadata": {},
   "outputs": [],
   "source": [
    "# Standard Imports\n",
    "import numpy as np\n",
    "import pandas as pd\n",
    "import matplotlib.pyplot as plt\n",
    "import seaborn as sns\n",
    "# Additional Imports\n",
    "import os, json, math, time\n",
    "from yelpapi import YelpAPI\n",
    "from tqdm.notebook import tqdm_notebook\n"
   ]
  },
  {
   "cell_type": "code",
   "execution_count": 6,
   "id": "7d72e64b",
   "metadata": {},
   "outputs": [],
   "source": [
    "# Load API Credentials\n",
    "with open('/Users/samspencer/.secret/yelp_api.json') as f:  \n",
    "    login = json.load(f)\n",
    "# Instantiate YelpAPI Variable\n",
    "yelp_api = YelpAPI(login['api-key'], timeout_s=5.0)"
   ]
  },
  {
   "cell_type": "code",
   "execution_count": 8,
   "id": "2dd80a81",
   "metadata": {},
   "outputs": [],
   "source": [
    "LOCATION = 'Lockhart, TX'\n",
    "TERM = 'BBQ'"
   ]
  },
  {
   "cell_type": "code",
   "execution_count": 9,
   "id": "3ce13895",
   "metadata": {},
   "outputs": [
    {
     "data": {
      "text/plain": [
       "'Data/TXBBQ.json'"
      ]
     },
     "execution_count": 9,
     "metadata": {},
     "output_type": "execute_result"
    }
   ],
   "source": [
    "JSON_FILE = \"Data/TXBBQ.json\"\n",
    "JSON_FILE"
   ]
  },
  {
   "cell_type": "code",
   "execution_count": 10,
   "id": "368eb7bd",
   "metadata": {},
   "outputs": [
    {
     "name": "stdout",
     "output_type": "stream",
     "text": [
      "[i] Data/TXBBQ.json not found. Saving empty list to file.\n"
     ]
    }
   ],
   "source": [
    "## Check if JSON_FILE exists\n",
    "file_exists = os.path.isfile(JSON_FILE)\n",
    "## If it does not exist: \n",
    "if file_exists == False:\n",
    "    \n",
    "    ## CREATE ANY NEEDED FOLDERS\n",
    "    # Get the Folder Name only\n",
    "    folder = os.path.dirname(JSON_FILE)\n",
    "    ## If JSON_FILE included a folder:\n",
    "    if len(folder)>0:\n",
    "        # create the folder\n",
    "        os.makedirs(folder,exist_ok=True)\n",
    "        \n",
    "        \n",
    "    ## INFORM USER AND SAVE EMPTY LIST\n",
    "    print(f'[i] {JSON_FILE} not found. Saving empty list to file.')\n",
    "    \n",
    "    \n",
    "    # save an empty list\n",
    "    with open(JSON_FILE,'w') as f:\n",
    "        json.dump([],f)  \n",
    "# If it exists, inform user\n",
    "else:\n",
    "    print(f\"[i] {JSON_FILE} already exists.\")"
   ]
  },
  {
   "cell_type": "code",
   "execution_count": 11,
   "id": "6ff1ab0b",
   "metadata": {},
   "outputs": [
    {
     "name": "stdout",
     "output_type": "stream",
     "text": [
      "- 0 previous results found.\n"
     ]
    }
   ],
   "source": [
    "## Load previous results and use len of results for offset\n",
    "with open(JSON_FILE,'r') as f:\n",
    "    previous_results = json.load(f)\n",
    "    \n",
    "## set offset based on previous results\n",
    "n_results = len(previous_results)\n",
    "print(f'- {n_results} previous results found.')"
   ]
  },
  {
   "cell_type": "code",
   "execution_count": 12,
   "id": "3768ce15",
   "metadata": {},
   "outputs": [
    {
     "data": {
      "text/plain": [
       "dict_keys(['businesses', 'total', 'region'])"
      ]
     },
     "execution_count": 12,
     "metadata": {},
     "output_type": "execute_result"
    }
   ],
   "source": [
    "# use our yelp_api variable's search_query method to perform our API call\n",
    "results = yelp_api.search_query(location=LOCATION,\n",
    "                                term=TERM,\n",
    "                               offset=n_results)\n",
    "results.keys()"
   ]
  },
  {
   "cell_type": "code",
   "execution_count": 13,
   "id": "b982996f",
   "metadata": {},
   "outputs": [
    {
     "data": {
      "text/plain": [
       "61"
      ]
     },
     "execution_count": 13,
     "metadata": {},
     "output_type": "execute_result"
    }
   ],
   "source": [
    "total_results = results['total']\n",
    "total_results"
   ]
  },
  {
   "cell_type": "code",
   "execution_count": 14,
   "id": "b44dc341",
   "metadata": {},
   "outputs": [
    {
     "data": {
      "text/plain": [
       "20"
      ]
     },
     "execution_count": 14,
     "metadata": {},
     "output_type": "execute_result"
    }
   ],
   "source": [
    "results_per_page = len(results['businesses'])\n",
    "results_per_page"
   ]
  },
  {
   "cell_type": "code",
   "execution_count": 15,
   "id": "32926419",
   "metadata": {},
   "outputs": [
    {
     "data": {
      "text/plain": [
       "4"
      ]
     },
     "execution_count": 15,
     "metadata": {},
     "output_type": "execute_result"
    }
   ],
   "source": [
    "# Import additional packages for controlling our loop\n",
    "import time, math\n",
    "# Use math.ceil to round up for the total number of pages of results.\n",
    "n_pages = math.ceil((results['total']-n_results)/ results_per_page)\n",
    "n_pages"
   ]
  },
  {
   "cell_type": "code",
   "execution_count": 17,
   "id": "7500245d",
   "metadata": {},
   "outputs": [],
   "source": [
    "# join new results with old list with extend and save to file\n",
    "previous_results.extend(results['businesses'])  \n",
    "with open(JSON_FILE,'w') as f:\n",
    "     json.dump(previous_results,f)\n"
   ]
  },
  {
   "cell_type": "code",
   "execution_count": 18,
   "id": "a417077d",
   "metadata": {},
   "outputs": [
    {
     "data": {
      "application/vnd.jupyter.widget-view+json": {
       "model_id": "d528baebf5c14fb699ef5d803dbdf102",
       "version_major": 2,
       "version_minor": 0
      },
      "text/plain": [
       "  0%|          | 0/4 [00:00<?, ?it/s]"
      ]
     },
     "metadata": {},
     "output_type": "display_data"
    }
   ],
   "source": [
    "from tqdm.notebook import tqdm_notebook\n",
    "import time\n",
    "for i in tqdm_notebook(range(n_pages)):\n",
    "    # adds 200 ms pause\n",
    "    time.sleep(.2) "
   ]
  },
  {
   "cell_type": "code",
   "execution_count": 19,
   "id": "90476092",
   "metadata": {},
   "outputs": [
    {
     "data": {
      "application/vnd.jupyter.widget-view+json": {
       "model_id": "7b79ea02258742fa8921817fbe85f477",
       "version_major": 2,
       "version_minor": 0
      },
      "text/plain": [
       "  0%|          | 0/4 [00:00<?, ?it/s]"
      ]
     },
     "metadata": {},
     "output_type": "display_data"
    }
   ],
   "source": [
    "for i in tqdm_notebook( range(1,n_pages+1)):\n",
    "    \n",
    "    ## Read in results in progress file and check the length\n",
    "    with open(JSON_FILE, 'r') as f:\n",
    "        previous_results = json.load(f)\n",
    "    ## save number of results for to use as offset\n",
    "    n_results = len(previous_results)\n",
    "    ## use n_results as the OFFSET \n",
    "    results = yelp_api.search_query(location=LOCATION,\n",
    "                                    term=TERM, \n",
    "                                    offset=n_results)\n",
    "    \n",
    "    ## append new results and save to file\n",
    "    previous_results.extend(results['businesses'])\n",
    "    \n",
    "    with open(JSON_FILE,'w') as f:\n",
    "        json.dump(previous_results,f)\n",
    "    \n",
    "    # add a 200ms pause\n",
    "    time.sleep(.2)"
   ]
  },
  {
   "cell_type": "code",
   "execution_count": 20,
   "id": "2ed5ff5f",
   "metadata": {},
   "outputs": [
    {
     "data": {
      "text/html": [
       "<div>\n",
       "<style scoped>\n",
       "    .dataframe tbody tr th:only-of-type {\n",
       "        vertical-align: middle;\n",
       "    }\n",
       "\n",
       "    .dataframe tbody tr th {\n",
       "        vertical-align: top;\n",
       "    }\n",
       "\n",
       "    .dataframe thead th {\n",
       "        text-align: right;\n",
       "    }\n",
       "</style>\n",
       "<table border=\"1\" class=\"dataframe\">\n",
       "  <thead>\n",
       "    <tr style=\"text-align: right;\">\n",
       "      <th></th>\n",
       "      <th>id</th>\n",
       "      <th>alias</th>\n",
       "      <th>name</th>\n",
       "      <th>image_url</th>\n",
       "      <th>is_closed</th>\n",
       "      <th>url</th>\n",
       "      <th>review_count</th>\n",
       "      <th>categories</th>\n",
       "      <th>rating</th>\n",
       "      <th>coordinates</th>\n",
       "      <th>transactions</th>\n",
       "      <th>price</th>\n",
       "      <th>location</th>\n",
       "      <th>phone</th>\n",
       "      <th>display_phone</th>\n",
       "      <th>distance</th>\n",
       "    </tr>\n",
       "  </thead>\n",
       "  <tbody>\n",
       "    <tr>\n",
       "      <th>0</th>\n",
       "      <td>eANZDJ5b801wlfeZTUGzyA</td>\n",
       "      <td>blacks-barbecue-lockhart-lockhart</td>\n",
       "      <td>Black's Barbecue Lockhart</td>\n",
       "      <td>https://s3-media3.fl.yelpcdn.com/bphoto/V6wlGx...</td>\n",
       "      <td>False</td>\n",
       "      <td>https://www.yelp.com/biz/blacks-barbecue-lockh...</td>\n",
       "      <td>1673</td>\n",
       "      <td>[{'alias': 'bbq', 'title': 'Barbeque'}]</td>\n",
       "      <td>4.0</td>\n",
       "      <td>{'latitude': 29.88609, 'longitude': -97.67289}</td>\n",
       "      <td>[]</td>\n",
       "      <td>$$</td>\n",
       "      <td>{'address1': '215 N Main St', 'address2': '', ...</td>\n",
       "      <td>+15123982712</td>\n",
       "      <td>(512) 398-2712</td>\n",
       "      <td>541.445592</td>\n",
       "    </tr>\n",
       "    <tr>\n",
       "      <th>1</th>\n",
       "      <td>Q-aLHWVyO7IdVaxVNWvmxg</td>\n",
       "      <td>terry-blacks-bbq-lockhart-lockhart</td>\n",
       "      <td>Terry Black's BBQ Lockhart</td>\n",
       "      <td>https://s3-media1.fl.yelpcdn.com/bphoto/y14kX2...</td>\n",
       "      <td>False</td>\n",
       "      <td>https://www.yelp.com/biz/terry-blacks-bbq-lock...</td>\n",
       "      <td>44</td>\n",
       "      <td>[{'alias': 'bbq', 'title': 'Barbeque'}, {'alia...</td>\n",
       "      <td>4.5</td>\n",
       "      <td>{'latitude': 29.893506186396223, 'longitude': ...</td>\n",
       "      <td>[]</td>\n",
       "      <td>NaN</td>\n",
       "      <td>{'address1': '900 N Colorado St', 'address2': ...</td>\n",
       "      <td>+15126684617</td>\n",
       "      <td>(512) 668-4617</td>\n",
       "      <td>1307.431304</td>\n",
       "    </tr>\n",
       "    <tr>\n",
       "      <th>2</th>\n",
       "      <td>O4SrowLGiyvrF_oTefQfwA</td>\n",
       "      <td>kreuz-market-lockhart</td>\n",
       "      <td>Kreuz Market</td>\n",
       "      <td>https://s3-media2.fl.yelpcdn.com/bphoto/_tcXEu...</td>\n",
       "      <td>False</td>\n",
       "      <td>https://www.yelp.com/biz/kreuz-market-lockhart...</td>\n",
       "      <td>952</td>\n",
       "      <td>[{'alias': 'bbq', 'title': 'Barbeque'}]</td>\n",
       "      <td>3.5</td>\n",
       "      <td>{'latitude': 29.889954039326714, 'longitude': ...</td>\n",
       "      <td>[]</td>\n",
       "      <td>$$</td>\n",
       "      <td>{'address1': '619 N Colorado St', 'address2': ...</td>\n",
       "      <td>+15123982361</td>\n",
       "      <td>(512) 398-2361</td>\n",
       "      <td>973.701031</td>\n",
       "    </tr>\n",
       "    <tr>\n",
       "      <th>3</th>\n",
       "      <td>71IcJf-dZ54QdSIqC7Q7eQ</td>\n",
       "      <td>smittys-market-lockhart</td>\n",
       "      <td>Smitty's Market</td>\n",
       "      <td>https://s3-media1.fl.yelpcdn.com/bphoto/5a818J...</td>\n",
       "      <td>False</td>\n",
       "      <td>https://www.yelp.com/biz/smittys-market-lockha...</td>\n",
       "      <td>955</td>\n",
       "      <td>[{'alias': 'bbq', 'title': 'Barbeque'}]</td>\n",
       "      <td>3.5</td>\n",
       "      <td>{'latitude': 29.883638381958, 'longitude': -97...</td>\n",
       "      <td>[]</td>\n",
       "      <td>$$</td>\n",
       "      <td>{'address1': '208 S Commerce St', 'address2': ...</td>\n",
       "      <td>+15123989344</td>\n",
       "      <td>(512) 398-9344</td>\n",
       "      <td>573.112193</td>\n",
       "    </tr>\n",
       "    <tr>\n",
       "      <th>4</th>\n",
       "      <td>Bb2YUVvHBDtfGGGHJGKGCA</td>\n",
       "      <td>rileys-pit-bbq-lockhart</td>\n",
       "      <td>Riley's Pit BBQ</td>\n",
       "      <td>https://s3-media4.fl.yelpcdn.com/bphoto/gzMpCr...</td>\n",
       "      <td>False</td>\n",
       "      <td>https://www.yelp.com/biz/rileys-pit-bbq-lockha...</td>\n",
       "      <td>34</td>\n",
       "      <td>[{'alias': 'bbq', 'title': 'Barbeque'}]</td>\n",
       "      <td>4.5</td>\n",
       "      <td>{'latitude': 29.869819192624544, 'longitude': ...</td>\n",
       "      <td>[]</td>\n",
       "      <td>NaN</td>\n",
       "      <td>{'address1': '1326 S Colorado', 'address2': No...</td>\n",
       "      <td>+15123985001</td>\n",
       "      <td>(512) 398-5001</td>\n",
       "      <td>1599.589956</td>\n",
       "    </tr>\n",
       "  </tbody>\n",
       "</table>\n",
       "</div>"
      ],
      "text/plain": [
       "                       id                               alias  \\\n",
       "0  eANZDJ5b801wlfeZTUGzyA   blacks-barbecue-lockhart-lockhart   \n",
       "1  Q-aLHWVyO7IdVaxVNWvmxg  terry-blacks-bbq-lockhart-lockhart   \n",
       "2  O4SrowLGiyvrF_oTefQfwA               kreuz-market-lockhart   \n",
       "3  71IcJf-dZ54QdSIqC7Q7eQ             smittys-market-lockhart   \n",
       "4  Bb2YUVvHBDtfGGGHJGKGCA             rileys-pit-bbq-lockhart   \n",
       "\n",
       "                         name  \\\n",
       "0   Black's Barbecue Lockhart   \n",
       "1  Terry Black's BBQ Lockhart   \n",
       "2                Kreuz Market   \n",
       "3             Smitty's Market   \n",
       "4             Riley's Pit BBQ   \n",
       "\n",
       "                                           image_url  is_closed  \\\n",
       "0  https://s3-media3.fl.yelpcdn.com/bphoto/V6wlGx...      False   \n",
       "1  https://s3-media1.fl.yelpcdn.com/bphoto/y14kX2...      False   \n",
       "2  https://s3-media2.fl.yelpcdn.com/bphoto/_tcXEu...      False   \n",
       "3  https://s3-media1.fl.yelpcdn.com/bphoto/5a818J...      False   \n",
       "4  https://s3-media4.fl.yelpcdn.com/bphoto/gzMpCr...      False   \n",
       "\n",
       "                                                 url  review_count  \\\n",
       "0  https://www.yelp.com/biz/blacks-barbecue-lockh...          1673   \n",
       "1  https://www.yelp.com/biz/terry-blacks-bbq-lock...            44   \n",
       "2  https://www.yelp.com/biz/kreuz-market-lockhart...           952   \n",
       "3  https://www.yelp.com/biz/smittys-market-lockha...           955   \n",
       "4  https://www.yelp.com/biz/rileys-pit-bbq-lockha...            34   \n",
       "\n",
       "                                          categories  rating  \\\n",
       "0            [{'alias': 'bbq', 'title': 'Barbeque'}]     4.0   \n",
       "1  [{'alias': 'bbq', 'title': 'Barbeque'}, {'alia...     4.5   \n",
       "2            [{'alias': 'bbq', 'title': 'Barbeque'}]     3.5   \n",
       "3            [{'alias': 'bbq', 'title': 'Barbeque'}]     3.5   \n",
       "4            [{'alias': 'bbq', 'title': 'Barbeque'}]     4.5   \n",
       "\n",
       "                                         coordinates transactions price  \\\n",
       "0     {'latitude': 29.88609, 'longitude': -97.67289}           []    $$   \n",
       "1  {'latitude': 29.893506186396223, 'longitude': ...           []   NaN   \n",
       "2  {'latitude': 29.889954039326714, 'longitude': ...           []    $$   \n",
       "3  {'latitude': 29.883638381958, 'longitude': -97...           []    $$   \n",
       "4  {'latitude': 29.869819192624544, 'longitude': ...           []   NaN   \n",
       "\n",
       "                                            location         phone  \\\n",
       "0  {'address1': '215 N Main St', 'address2': '', ...  +15123982712   \n",
       "1  {'address1': '900 N Colorado St', 'address2': ...  +15126684617   \n",
       "2  {'address1': '619 N Colorado St', 'address2': ...  +15123982361   \n",
       "3  {'address1': '208 S Commerce St', 'address2': ...  +15123989344   \n",
       "4  {'address1': '1326 S Colorado', 'address2': No...  +15123985001   \n",
       "\n",
       "    display_phone     distance  \n",
       "0  (512) 398-2712   541.445592  \n",
       "1  (512) 668-4617  1307.431304  \n",
       "2  (512) 398-2361   973.701031  \n",
       "3  (512) 398-9344   573.112193  \n",
       "4  (512) 398-5001  1599.589956  "
      ]
     },
     "metadata": {},
     "output_type": "display_data"
    },
    {
     "data": {
      "text/html": [
       "<div>\n",
       "<style scoped>\n",
       "    .dataframe tbody tr th:only-of-type {\n",
       "        vertical-align: middle;\n",
       "    }\n",
       "\n",
       "    .dataframe tbody tr th {\n",
       "        vertical-align: top;\n",
       "    }\n",
       "\n",
       "    .dataframe thead th {\n",
       "        text-align: right;\n",
       "    }\n",
       "</style>\n",
       "<table border=\"1\" class=\"dataframe\">\n",
       "  <thead>\n",
       "    <tr style=\"text-align: right;\">\n",
       "      <th></th>\n",
       "      <th>id</th>\n",
       "      <th>alias</th>\n",
       "      <th>name</th>\n",
       "      <th>image_url</th>\n",
       "      <th>is_closed</th>\n",
       "      <th>url</th>\n",
       "      <th>review_count</th>\n",
       "      <th>categories</th>\n",
       "      <th>rating</th>\n",
       "      <th>coordinates</th>\n",
       "      <th>transactions</th>\n",
       "      <th>price</th>\n",
       "      <th>location</th>\n",
       "      <th>phone</th>\n",
       "      <th>display_phone</th>\n",
       "      <th>distance</th>\n",
       "    </tr>\n",
       "  </thead>\n",
       "  <tbody>\n",
       "    <tr>\n",
       "      <th>56</th>\n",
       "      <td>7zRhI9QZ72z09v_WZAOMEw</td>\n",
       "      <td>hardihoods-eatery-and-drinkery-evo-kyle</td>\n",
       "      <td>Hardihoods Eatery &amp; Drinkery @ EVO</td>\n",
       "      <td>https://s3-media2.fl.yelpcdn.com/bphoto/ndILEv...</td>\n",
       "      <td>False</td>\n",
       "      <td>https://www.yelp.com/biz/hardihoods-eatery-and...</td>\n",
       "      <td>14</td>\n",
       "      <td>[{'alias': 'newamerican', 'title': 'American (...</td>\n",
       "      <td>2.5</td>\n",
       "      <td>{'latitude': 30.0301848, 'longitude': -97.8538...</td>\n",
       "      <td>[]</td>\n",
       "      <td>NaN</td>\n",
       "      <td>{'address1': '3200 Kyle Crossing', 'address2':...</td>\n",
       "      <td>+15125239009</td>\n",
       "      <td>(512) 523-9009</td>\n",
       "      <td>23642.959781</td>\n",
       "    </tr>\n",
       "    <tr>\n",
       "      <th>57</th>\n",
       "      <td>xM9mCSBSk-0-YaT0tszrpQ</td>\n",
       "      <td>kfc-kyle-2</td>\n",
       "      <td>KFC</td>\n",
       "      <td>https://s3-media2.fl.yelpcdn.com/bphoto/kmJfMK...</td>\n",
       "      <td>False</td>\n",
       "      <td>https://www.yelp.com/biz/kfc-kyle-2?adjust_cre...</td>\n",
       "      <td>20</td>\n",
       "      <td>[{'alias': 'hotdogs', 'title': 'Fast Food'}, {...</td>\n",
       "      <td>1.5</td>\n",
       "      <td>{'latitude': 30.00958085956445, 'longitude': -...</td>\n",
       "      <td>[delivery, pickup]</td>\n",
       "      <td>$</td>\n",
       "      <td>{'address1': '20925 Interstate Hwy 35', 'addre...</td>\n",
       "      <td>+15122686316</td>\n",
       "      <td>(512) 268-6316</td>\n",
       "      <td>22735.198310</td>\n",
       "    </tr>\n",
       "    <tr>\n",
       "      <th>58</th>\n",
       "      <td>SAb1ZXYMY7-HM3l3wgX9jg</td>\n",
       "      <td>wendys-kyle-2</td>\n",
       "      <td>Wendy's</td>\n",
       "      <td>https://s3-media1.fl.yelpcdn.com/bphoto/Qu_WP2...</td>\n",
       "      <td>False</td>\n",
       "      <td>https://www.yelp.com/biz/wendys-kyle-2?adjust_...</td>\n",
       "      <td>16</td>\n",
       "      <td>[{'alias': 'burgers', 'title': 'Burgers'}, {'a...</td>\n",
       "      <td>2.0</td>\n",
       "      <td>{'latitude': 30.012156003329803, 'longitude': ...</td>\n",
       "      <td>[delivery]</td>\n",
       "      <td>NaN</td>\n",
       "      <td>{'address1': '20584 Ih 35', 'address2': None, ...</td>\n",
       "      <td>+15125963319</td>\n",
       "      <td>(512) 596-3319</td>\n",
       "      <td>22812.691523</td>\n",
       "    </tr>\n",
       "    <tr>\n",
       "      <th>59</th>\n",
       "      <td>XSTpqsFOkWe7nBFCgpiL2g</td>\n",
       "      <td>popeyes-louisiana-kitchen-kyle-2</td>\n",
       "      <td>Popeyes Louisiana Kitchen</td>\n",
       "      <td>https://s3-media1.fl.yelpcdn.com/bphoto/XOPV4E...</td>\n",
       "      <td>False</td>\n",
       "      <td>https://www.yelp.com/biz/popeyes-louisiana-kit...</td>\n",
       "      <td>106</td>\n",
       "      <td>[{'alias': 'hotdogs', 'title': 'Fast Food'}, {...</td>\n",
       "      <td>1.5</td>\n",
       "      <td>{'latitude': 30.011973, 'longitude': -97.860128}</td>\n",
       "      <td>[delivery, pickup]</td>\n",
       "      <td>$</td>\n",
       "      <td>{'address1': '20259 IH 35', 'address2': '', 'a...</td>\n",
       "      <td>+15122681210</td>\n",
       "      <td>(512) 268-1210</td>\n",
       "      <td>22809.960323</td>\n",
       "    </tr>\n",
       "    <tr>\n",
       "      <th>60</th>\n",
       "      <td>6zuozyVB73h_5qoklBK8tA</td>\n",
       "      <td>mcdonalds-kyle</td>\n",
       "      <td>McDonald's</td>\n",
       "      <td>https://s3-media1.fl.yelpcdn.com/bphoto/ae53J0...</td>\n",
       "      <td>False</td>\n",
       "      <td>https://www.yelp.com/biz/mcdonalds-kyle?adjust...</td>\n",
       "      <td>65</td>\n",
       "      <td>[{'alias': 'hotdogs', 'title': 'Fast Food'}, {...</td>\n",
       "      <td>1.5</td>\n",
       "      <td>{'latitude': 30.011287, 'longitude': -97.862819}</td>\n",
       "      <td>[delivery]</td>\n",
       "      <td>$</td>\n",
       "      <td>{'address1': '5325 Kyle Center Dr', 'address2'...</td>\n",
       "      <td>+15122681121</td>\n",
       "      <td>(512) 268-1121</td>\n",
       "      <td>22963.756174</td>\n",
       "    </tr>\n",
       "  </tbody>\n",
       "</table>\n",
       "</div>"
      ],
      "text/plain": [
       "                        id                                    alias  \\\n",
       "56  7zRhI9QZ72z09v_WZAOMEw  hardihoods-eatery-and-drinkery-evo-kyle   \n",
       "57  xM9mCSBSk-0-YaT0tszrpQ                               kfc-kyle-2   \n",
       "58  SAb1ZXYMY7-HM3l3wgX9jg                            wendys-kyle-2   \n",
       "59  XSTpqsFOkWe7nBFCgpiL2g         popeyes-louisiana-kitchen-kyle-2   \n",
       "60  6zuozyVB73h_5qoklBK8tA                           mcdonalds-kyle   \n",
       "\n",
       "                                  name  \\\n",
       "56  Hardihoods Eatery & Drinkery @ EVO   \n",
       "57                                 KFC   \n",
       "58                             Wendy's   \n",
       "59           Popeyes Louisiana Kitchen   \n",
       "60                          McDonald's   \n",
       "\n",
       "                                            image_url  is_closed  \\\n",
       "56  https://s3-media2.fl.yelpcdn.com/bphoto/ndILEv...      False   \n",
       "57  https://s3-media2.fl.yelpcdn.com/bphoto/kmJfMK...      False   \n",
       "58  https://s3-media1.fl.yelpcdn.com/bphoto/Qu_WP2...      False   \n",
       "59  https://s3-media1.fl.yelpcdn.com/bphoto/XOPV4E...      False   \n",
       "60  https://s3-media1.fl.yelpcdn.com/bphoto/ae53J0...      False   \n",
       "\n",
       "                                                  url  review_count  \\\n",
       "56  https://www.yelp.com/biz/hardihoods-eatery-and...            14   \n",
       "57  https://www.yelp.com/biz/kfc-kyle-2?adjust_cre...            20   \n",
       "58  https://www.yelp.com/biz/wendys-kyle-2?adjust_...            16   \n",
       "59  https://www.yelp.com/biz/popeyes-louisiana-kit...           106   \n",
       "60  https://www.yelp.com/biz/mcdonalds-kyle?adjust...            65   \n",
       "\n",
       "                                           categories  rating  \\\n",
       "56  [{'alias': 'newamerican', 'title': 'American (...     2.5   \n",
       "57  [{'alias': 'hotdogs', 'title': 'Fast Food'}, {...     1.5   \n",
       "58  [{'alias': 'burgers', 'title': 'Burgers'}, {'a...     2.0   \n",
       "59  [{'alias': 'hotdogs', 'title': 'Fast Food'}, {...     1.5   \n",
       "60  [{'alias': 'hotdogs', 'title': 'Fast Food'}, {...     1.5   \n",
       "\n",
       "                                          coordinates        transactions  \\\n",
       "56  {'latitude': 30.0301848, 'longitude': -97.8538...                  []   \n",
       "57  {'latitude': 30.00958085956445, 'longitude': -...  [delivery, pickup]   \n",
       "58  {'latitude': 30.012156003329803, 'longitude': ...          [delivery]   \n",
       "59   {'latitude': 30.011973, 'longitude': -97.860128}  [delivery, pickup]   \n",
       "60   {'latitude': 30.011287, 'longitude': -97.862819}          [delivery]   \n",
       "\n",
       "   price                                           location         phone  \\\n",
       "56   NaN  {'address1': '3200 Kyle Crossing', 'address2':...  +15125239009   \n",
       "57     $  {'address1': '20925 Interstate Hwy 35', 'addre...  +15122686316   \n",
       "58   NaN  {'address1': '20584 Ih 35', 'address2': None, ...  +15125963319   \n",
       "59     $  {'address1': '20259 IH 35', 'address2': '', 'a...  +15122681210   \n",
       "60     $  {'address1': '5325 Kyle Center Dr', 'address2'...  +15122681121   \n",
       "\n",
       "     display_phone      distance  \n",
       "56  (512) 523-9009  23642.959781  \n",
       "57  (512) 268-6316  22735.198310  \n",
       "58  (512) 596-3319  22812.691523  \n",
       "59  (512) 268-1210  22809.960323  \n",
       "60  (512) 268-1121  22963.756174  "
      ]
     },
     "metadata": {},
     "output_type": "display_data"
    }
   ],
   "source": [
    "final_df = pd.read_json(JSON_FILE)\n",
    "display(final_df.head(), final_df.tail())"
   ]
  },
  {
   "cell_type": "code",
   "execution_count": 22,
   "id": "136ea38a",
   "metadata": {},
   "outputs": [
    {
     "data": {
      "text/plain": [
       "0"
      ]
     },
     "execution_count": 22,
     "metadata": {},
     "output_type": "execute_result"
    }
   ],
   "source": [
    "final_df = final_df.drop_duplicates(subset='id')\n",
    "final_df.duplicated(subset='id').sum()"
   ]
  },
  {
   "cell_type": "code",
   "execution_count": null,
   "id": "f3008fec",
   "metadata": {},
   "outputs": [],
   "source": []
  }
 ],
 "metadata": {
  "kernelspec": {
   "display_name": "Python (dojo-env)",
   "language": "python",
   "name": "dojo-env"
  },
  "language_info": {
   "codemirror_mode": {
    "name": "ipython",
    "version": 3
   },
   "file_extension": ".py",
   "mimetype": "text/x-python",
   "name": "python",
   "nbconvert_exporter": "python",
   "pygments_lexer": "ipython3",
   "version": "3.9.15"
  },
  "toc": {
   "base_numbering": 1,
   "nav_menu": {},
   "number_sections": true,
   "sideBar": true,
   "skip_h1_title": false,
   "title_cell": "Table of Contents",
   "title_sidebar": "Contents",
   "toc_cell": false,
   "toc_position": {},
   "toc_section_display": true,
   "toc_window_display": false
  }
 },
 "nbformat": 4,
 "nbformat_minor": 5
}
